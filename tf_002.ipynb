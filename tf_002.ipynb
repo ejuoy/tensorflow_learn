{
 "cells": [
  {
   "cell_type": "code",
   "execution_count": 5,
   "metadata": {
    "ExecuteTime": {
     "end_time": "2018-11-27T08:58:23.253361Z",
     "start_time": "2018-11-27T08:58:23.229021Z"
    }
   },
   "outputs": [
    {
     "name": "stdout",
     "output_type": "stream",
     "text": [
      "tf 002\n",
      "Tensor(\"Const_4:0\", shape=(1, 2), dtype=float32)\n",
      "Tensor(\"Const_5:0\", shape=(2, 1), dtype=float32)\n",
      "[[11.]]\n"
     ]
    }
   ],
   "source": [
    "import tensorflow as tf\n",
    "print(\"tf 002\")\n",
    "c1 = tf.constant([[1.,2.]])\n",
    "c2 = tf.constant([[3.],[4.]])\n",
    "print(c1)\n",
    "print(c2)\n",
    "product = tf.matmul(c1,c2)\n",
    "with tf.Session() as sess:\n",
    "    print(sess.run(product))\n",
    "\n",
    "# 会话"
   ]
  },
  {
   "cell_type": "code",
   "execution_count": 11,
   "metadata": {
    "ExecuteTime": {
     "end_time": "2018-11-27T09:07:49.601035Z",
     "start_time": "2018-11-27T09:07:49.566713Z"
    }
   },
   "outputs": [
    {
     "name": "stdout",
     "output_type": "stream",
     "text": [
      "<tf.Variable 'Variable_5:0' shape=(2,) dtype=int32_ref> Tensor(\"Const_11:0\", shape=(2,), dtype=int32)\n",
      "[-2 -2]\n",
      "[4 6]\n",
      "[array([4, 6], dtype=int32), array([-2, -2], dtype=int32)]\n",
      "[4 6]\n"
     ]
    }
   ],
   "source": [
    "import tensorflow as tf \n",
    "# 变量  变量必须初始化\n",
    "x = tf.Variable([1,2])\n",
    "c = tf.constant([3,4])\n",
    "print(x,c)\n",
    "sub = tf.subtract(x,c)\n",
    "add = tf.add(x,c)\n",
    "update = tf.assign(x,add)  # 变量赋值 不能使用 = \n",
    "init = tf.global_variables_initializer() # 变量初始化\n",
    "with tf.Session() as sess:\n",
    "    sess.run(init)\n",
    "    print(sess.run(sub))\n",
    "    print(sess.run(add))\n",
    "    \n",
    "    print(sess.run([add,sub]))   # fetch \n",
    "    \n",
    "    for _ in range(1):\n",
    "        print(sess.run(update))\n",
    "        \n",
    "\n",
    "    "
   ]
  },
  {
   "cell_type": "code",
   "execution_count": 13,
   "metadata": {
    "ExecuteTime": {
     "end_time": "2018-11-27T09:11:58.179912Z",
     "start_time": "2018-11-27T09:11:58.168349Z"
    }
   },
   "outputs": [
    {
     "name": "stdout",
     "output_type": "stream",
     "text": [
      "Tensor(\"Placeholder_2:0\", dtype=float32) Tensor(\"Placeholder_3:0\", dtype=float32)\n",
      "[5.]\n"
     ]
    }
   ],
   "source": [
    "import tensorflow as tf \n",
    "c1 = tf.placeholder(tf.float32)\n",
    "c2 = tf.placeholder(tf.float32)\n",
    "\n",
    "print(c1,c2)\n",
    "\n",
    "add = tf.add(c1,c2)\n",
    "with tf.Session() as sess:\n",
    "    print(sess.run(add,feed_dict={c1:[2],c2:[3]}))\n",
    "\n"
   ]
  },
  {
   "cell_type": "code",
   "execution_count": null,
   "metadata": {},
   "outputs": [],
   "source": []
  }
 ],
 "metadata": {
  "kernelspec": {
   "display_name": "Python 3",
   "language": "python",
   "name": "python3"
  },
  "language_info": {
   "codemirror_mode": {
    "name": "ipython",
    "version": 3
   },
   "file_extension": ".py",
   "mimetype": "text/x-python",
   "name": "python",
   "nbconvert_exporter": "python",
   "pygments_lexer": "ipython3",
   "version": "3.6.5"
  }
 },
 "nbformat": 4,
 "nbformat_minor": 2
}
