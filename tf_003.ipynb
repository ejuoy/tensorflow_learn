{
 "cells": [
  {
   "cell_type": "code",
   "execution_count": null,
   "metadata": {},
   "outputs": [],
   "source": [
    "# 梯度下降拟合曲线"
   ]
  },
  {
   "cell_type": "code",
   "execution_count": 53,
   "metadata": {
    "ExecuteTime": {
     "end_time": "2018-11-27T09:56:20.590962Z",
     "start_time": "2018-11-27T09:56:20.201523Z"
    },
    "code_folding": []
   },
   "outputs": [
    {
     "name": "stdout",
     "output_type": "stream",
     "text": [
      "tf 003\n",
      "Tensor(\"add_37:0\", shape=(100,), dtype=float32)\n",
      "hello\n",
      "0 [k,b] [0.05167553, 0.09533682]\n",
      "50 [k,b] [0.21056102, 0.37130567]\n",
      "test\n"
     ]
    },
    {
     "data": {
      "image/png": "[encoded data removed]",
      "text/plain": [
       "<Figure size 432x288 with 1 Axes>"
      ]
     },
     "metadata": {},
     "output_type": "display_data"
    }
   ],
   "source": [
    "import tensorflow as tf \n",
    "import matplotlib.pyplot as plt\n",
    "import numpy as np\n",
    "\n",
    "x_data = np.random.random(100)\n",
    "y_data = 0.123*x_data + 0.381 + 0.1 * x_data**2\n",
    "\n",
    "print('tf 003')\n",
    "plt.title('tf tf')\n",
    "plt.xlabel('random')\n",
    "plt.ylabel('y')\n",
    "plt.plot(x_data,y_data,'og')\n",
    "\n",
    "b = tf.Variable(0.)\n",
    "k = tf.Variable(0.)\n",
    "y = k * x_data + b\n",
    "\n",
    "print(y)\n",
    "\n",
    "# 二次代价函数\n",
    "loss = tf.reduce_mean(tf.square(y_data - y))\n",
    "\n",
    "# 指定优化器\n",
    "optimizer = tf.train.GradientDescentOptimizer(0.1)\n",
    "train = optimizer.minimize(loss)\n",
    "\n",
    "init = tf.global_variables_initializer()\n",
    "with tf.Session() as sess:\n",
    "    sess.run(init)\n",
    "    print('hello')\n",
    "    for step in range(100):\n",
    "        sess.run(train)\n",
    "        if step %50 == 0:\n",
    "            print(step,'[k,b]',sess.run([k,b]))\n",
    "    plt.plot(x_data,x_data*sess.run(k)+sess.run(b),'ob')\n",
    "    print('test')\n",
    "\n",
    "\n",
    "\n"
   ]
  },
  {
   "cell_type": "code",
   "execution_count": null,
   "metadata": {},
   "outputs": [],
   "source": []
  }
 ],
 "metadata": {
  "kernelspec": {
   "display_name": "Python 3",
   "language": "python",
   "name": "python3"
  },
  "language_info": {
   "codemirror_mode": {
    "name": "ipython",
    "version": 3
   },
   "file_extension": ".py",
   "mimetype": "text/x-python",
   "name": "python",
   "nbconvert_exporter": "python",
   "pygments_lexer": "ipython3",
   "version": "3.6.5"
  }
 },
 "nbformat": 4,
 "nbformat_minor": 2
}
